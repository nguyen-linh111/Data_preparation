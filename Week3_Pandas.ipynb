{
  "nbformat": 4,
  "nbformat_minor": 0,
  "metadata": {
    "colab": {
      "name": "HomeworDP:week3 ",
      "provenance": []
    },
    "kernelspec": {
      "name": "python3",
      "display_name": "Python 3"
    },
    "language_info": {
      "name": "python"
    }
  },
  "cells": [
    {
      "cell_type": "code",
      "metadata": {
        "colab": {
          "base_uri": "https://localhost:8080/"
        },
        "id": "cXqo-_hMgW48",
        "outputId": "bf7a426c-bdd8-4502-c04d-3fda6b4d6393"
      },
      "source": [
        "from google .colab import drive\n",
        "drive.mount('/content/drive')\n"
      ],
      "execution_count": null,
      "outputs": [
        {
          "output_type": "stream",
          "name": "stdout",
          "text": [
            "Mounted at /content/drive\n"
          ]
        }
      ]
    },
    {
      "cell_type": "code",
      "metadata": {
        "colab": {
          "base_uri": "https://localhost:8080/",
          "height": 573
        },
        "id": "8sIjhV_rqVel",
        "outputId": "a520dbc3-e8ec-423e-9348-11b2e5a8b8f5"
      },
      "source": [
        "import pandas as pd\n",
        "earthquake_df = '/content/drive/MyDrive/earthquakes.csv'\n",
        "df = pd.read_csv(earthquake_df)\n",
        "df.head(5)"
      ],
      "execution_count": null,
      "outputs": [
        {
          "output_type": "execute_result",
          "data": {
            "text/html": [
              "<div>\n",
              "<style scoped>\n",
              "    .dataframe tbody tr th:only-of-type {\n",
              "        vertical-align: middle;\n",
              "    }\n",
              "\n",
              "    .dataframe tbody tr th {\n",
              "        vertical-align: top;\n",
              "    }\n",
              "\n",
              "    .dataframe thead th {\n",
              "        text-align: right;\n",
              "    }\n",
              "</style>\n",
              "<table border=\"1\" class=\"dataframe\">\n",
              "  <thead>\n",
              "    <tr style=\"text-align: right;\">\n",
              "      <th></th>\n",
              "      <th>alert</th>\n",
              "      <th>cdi</th>\n",
              "      <th>code</th>\n",
              "      <th>detail</th>\n",
              "      <th>dmin</th>\n",
              "      <th>felt</th>\n",
              "      <th>gap</th>\n",
              "      <th>ids</th>\n",
              "      <th>mag</th>\n",
              "      <th>magType</th>\n",
              "      <th>mmi</th>\n",
              "      <th>net</th>\n",
              "      <th>nst</th>\n",
              "      <th>place</th>\n",
              "      <th>rms</th>\n",
              "      <th>sig</th>\n",
              "      <th>sources</th>\n",
              "      <th>status</th>\n",
              "      <th>time</th>\n",
              "      <th>title</th>\n",
              "      <th>tsunami</th>\n",
              "      <th>type</th>\n",
              "      <th>types</th>\n",
              "      <th>tz</th>\n",
              "      <th>updated</th>\n",
              "      <th>url</th>\n",
              "    </tr>\n",
              "  </thead>\n",
              "  <tbody>\n",
              "    <tr>\n",
              "      <th>0</th>\n",
              "      <td>NaN</td>\n",
              "      <td>NaN</td>\n",
              "      <td>37389218</td>\n",
              "      <td>https://earthquake.usgs.gov/fdsnws/event/1/que...</td>\n",
              "      <td>0.008693</td>\n",
              "      <td>NaN</td>\n",
              "      <td>85.0</td>\n",
              "      <td>,ci37389218,</td>\n",
              "      <td>1.35</td>\n",
              "      <td>ml</td>\n",
              "      <td>NaN</td>\n",
              "      <td>ci</td>\n",
              "      <td>26.0</td>\n",
              "      <td>9km NE of Aguanga, CA</td>\n",
              "      <td>0.19</td>\n",
              "      <td>28</td>\n",
              "      <td>,ci,</td>\n",
              "      <td>automatic</td>\n",
              "      <td>1539475168010</td>\n",
              "      <td>M 1.4 - 9km NE of Aguanga, CA</td>\n",
              "      <td>0</td>\n",
              "      <td>earthquake</td>\n",
              "      <td>,geoserve,nearby-cities,origin,phase-data,</td>\n",
              "      <td>-480.0</td>\n",
              "      <td>1539475395144</td>\n",
              "      <td>https://earthquake.usgs.gov/earthquakes/eventp...</td>\n",
              "    </tr>\n",
              "    <tr>\n",
              "      <th>1</th>\n",
              "      <td>NaN</td>\n",
              "      <td>NaN</td>\n",
              "      <td>37389202</td>\n",
              "      <td>https://earthquake.usgs.gov/fdsnws/event/1/que...</td>\n",
              "      <td>0.020030</td>\n",
              "      <td>NaN</td>\n",
              "      <td>79.0</td>\n",
              "      <td>,ci37389202,</td>\n",
              "      <td>1.29</td>\n",
              "      <td>ml</td>\n",
              "      <td>NaN</td>\n",
              "      <td>ci</td>\n",
              "      <td>20.0</td>\n",
              "      <td>9km NE of Aguanga, CA</td>\n",
              "      <td>0.29</td>\n",
              "      <td>26</td>\n",
              "      <td>,ci,</td>\n",
              "      <td>automatic</td>\n",
              "      <td>1539475129610</td>\n",
              "      <td>M 1.3 - 9km NE of Aguanga, CA</td>\n",
              "      <td>0</td>\n",
              "      <td>earthquake</td>\n",
              "      <td>,geoserve,nearby-cities,origin,phase-data,</td>\n",
              "      <td>-480.0</td>\n",
              "      <td>1539475253925</td>\n",
              "      <td>https://earthquake.usgs.gov/earthquakes/eventp...</td>\n",
              "    </tr>\n",
              "    <tr>\n",
              "      <th>2</th>\n",
              "      <td>NaN</td>\n",
              "      <td>4.4</td>\n",
              "      <td>37389194</td>\n",
              "      <td>https://earthquake.usgs.gov/fdsnws/event/1/que...</td>\n",
              "      <td>0.021370</td>\n",
              "      <td>28.0</td>\n",
              "      <td>21.0</td>\n",
              "      <td>,ci37389194,</td>\n",
              "      <td>3.42</td>\n",
              "      <td>ml</td>\n",
              "      <td>NaN</td>\n",
              "      <td>ci</td>\n",
              "      <td>111.0</td>\n",
              "      <td>8km NE of Aguanga, CA</td>\n",
              "      <td>0.22</td>\n",
              "      <td>192</td>\n",
              "      <td>,ci,</td>\n",
              "      <td>automatic</td>\n",
              "      <td>1539475062610</td>\n",
              "      <td>M 3.4 - 8km NE of Aguanga, CA</td>\n",
              "      <td>0</td>\n",
              "      <td>earthquake</td>\n",
              "      <td>,dyfi,focal-mechanism,geoserve,nearby-cities,o...</td>\n",
              "      <td>-480.0</td>\n",
              "      <td>1539536756176</td>\n",
              "      <td>https://earthquake.usgs.gov/earthquakes/eventp...</td>\n",
              "    </tr>\n",
              "    <tr>\n",
              "      <th>3</th>\n",
              "      <td>NaN</td>\n",
              "      <td>NaN</td>\n",
              "      <td>37389186</td>\n",
              "      <td>https://earthquake.usgs.gov/fdsnws/event/1/que...</td>\n",
              "      <td>0.026180</td>\n",
              "      <td>NaN</td>\n",
              "      <td>39.0</td>\n",
              "      <td>,ci37389186,</td>\n",
              "      <td>0.44</td>\n",
              "      <td>ml</td>\n",
              "      <td>NaN</td>\n",
              "      <td>ci</td>\n",
              "      <td>26.0</td>\n",
              "      <td>9km NE of Aguanga, CA</td>\n",
              "      <td>0.17</td>\n",
              "      <td>3</td>\n",
              "      <td>,ci,</td>\n",
              "      <td>automatic</td>\n",
              "      <td>1539474978070</td>\n",
              "      <td>M 0.4 - 9km NE of Aguanga, CA</td>\n",
              "      <td>0</td>\n",
              "      <td>earthquake</td>\n",
              "      <td>,geoserve,nearby-cities,origin,phase-data,</td>\n",
              "      <td>-480.0</td>\n",
              "      <td>1539475196167</td>\n",
              "      <td>https://earthquake.usgs.gov/earthquakes/eventp...</td>\n",
              "    </tr>\n",
              "    <tr>\n",
              "      <th>4</th>\n",
              "      <td>NaN</td>\n",
              "      <td>NaN</td>\n",
              "      <td>73096941</td>\n",
              "      <td>https://earthquake.usgs.gov/fdsnws/event/1/que...</td>\n",
              "      <td>0.077990</td>\n",
              "      <td>NaN</td>\n",
              "      <td>192.0</td>\n",
              "      <td>,nc73096941,</td>\n",
              "      <td>2.16</td>\n",
              "      <td>md</td>\n",
              "      <td>NaN</td>\n",
              "      <td>nc</td>\n",
              "      <td>18.0</td>\n",
              "      <td>10km NW of Avenal, CA</td>\n",
              "      <td>0.05</td>\n",
              "      <td>72</td>\n",
              "      <td>,nc,</td>\n",
              "      <td>automatic</td>\n",
              "      <td>1539474716050</td>\n",
              "      <td>M 2.2 - 10km NW of Avenal, CA</td>\n",
              "      <td>0</td>\n",
              "      <td>earthquake</td>\n",
              "      <td>,geoserve,nearby-cities,origin,phase-data,scit...</td>\n",
              "      <td>-480.0</td>\n",
              "      <td>1539477547926</td>\n",
              "      <td>https://earthquake.usgs.gov/earthquakes/eventp...</td>\n",
              "    </tr>\n",
              "  </tbody>\n",
              "</table>\n",
              "</div>"
            ],
            "text/plain": [
              "  alert  cdi  ...        updated                                                url\n",
              "0   NaN  NaN  ...  1539475395144  https://earthquake.usgs.gov/earthquakes/eventp...\n",
              "1   NaN  NaN  ...  1539475253925  https://earthquake.usgs.gov/earthquakes/eventp...\n",
              "2   NaN  4.4  ...  1539536756176  https://earthquake.usgs.gov/earthquakes/eventp...\n",
              "3   NaN  NaN  ...  1539475196167  https://earthquake.usgs.gov/earthquakes/eventp...\n",
              "4   NaN  NaN  ...  1539477547926  https://earthquake.usgs.gov/earthquakes/eventp...\n",
              "\n",
              "[5 rows x 26 columns]"
            ]
          },
          "metadata": {},
          "execution_count": 2
        }
      ]
    },
    {
      "cell_type": "code",
      "metadata": {
        "colab": {
          "base_uri": "https://localhost:8080/"
        },
        "id": "rZqvs7KVs03j",
        "outputId": "8bf3fd1d-2535-4821-9ce7-4569c046928a"
      },
      "source": [
        "df1 = df[(df['magType'] == 'ml') & (df['type'] == 'explosion')]\n",
        "len(df1)\n"
      ],
      "execution_count": null,
      "outputs": [
        {
          "output_type": "execute_result",
          "data": {
            "text/plain": [
              "79"
            ]
          },
          "metadata": {},
          "execution_count": 4
        }
      ]
    },
    {
      "cell_type": "code",
      "metadata": {
        "id": "_dMSXzk004Z5",
        "colab": {
          "base_uri": "https://localhost:8080/"
        },
        "outputId": "1af40907-842b-424e-8710-0f898a95eff1"
      },
      "source": [
        "df2 = df.mag[(df.place.str.contains('Alaska')) & (~df.place.str.contains('\\d{3,}', regex = True))].mean()\n",
        "df2"
      ],
      "execution_count": null,
      "outputs": [
        {
          "output_type": "execute_result",
          "data": {
            "text/plain": [
              "1.3744199088678577"
            ]
          },
          "metadata": {},
          "execution_count": 14
        }
      ]
    },
    {
      "cell_type": "code",
      "metadata": {
        "colab": {
          "base_uri": "https://localhost:8080/"
        },
        "id": "ioQjkVFYo7uw",
        "outputId": "14f74749-291f-4456-da0b-b4a9eee7ccc6"
      },
      "source": [
        "df['time'] = pd.to_datetime(df['time'], unit = 'ms')\n",
        "df['time']"
      ],
      "execution_count": null,
      "outputs": [
        {
          "output_type": "execute_result",
          "data": {
            "text/plain": [
              "0      2018-10-13 23:59:28.010\n",
              "1      2018-10-13 23:58:49.610\n",
              "2      2018-10-13 23:57:42.610\n",
              "3      2018-10-13 23:56:18.070\n",
              "4      2018-10-13 23:51:56.050\n",
              "                 ...          \n",
              "9327   2018-09-18 00:23:48.060\n",
              "9328   2018-09-18 00:22:15.130\n",
              "9329   2018-09-18 00:18:28.180\n",
              "9330   2018-09-18 00:12:25.350\n",
              "9331   2018-09-18 00:01:04.470\n",
              "Name: time, Length: 9332, dtype: datetime64[ns]"
            ]
          },
          "metadata": {},
          "execution_count": 8
        }
      ]
    },
    {
      "cell_type": "code",
      "metadata": {
        "colab": {
          "base_uri": "https://localhost:8080/"
        },
        "id": "YwORpL_CpYzM",
        "outputId": "e4a5f969-296c-480f-af32-6395282a961b"
      },
      "source": [
        "q = pd.DatetimeIndex(df['time']).month\n",
        "print(q)\n",
        "q1 = df.mag[(q >= 1) & (q <= 3)]\n",
        "q2 = df.mag[(q >= 4) & (q <= 6)]\n",
        "q3 = df.mag[(q >= 7) & (q <= 9)]\n",
        "q4 = df.mag[(q >= 10) & (q <= 12)]\n",
        "print(f'mean of mag in q1 = {q1.mean()}')\n",
        "print(f'mean of mag in q2 = {q2.mean()}')\n",
        "print(f'mean of mag in q3 = {q3.mean()}')\n",
        "print(f'mean of mag in q4 = {q4.mean()}')"
      ],
      "execution_count": null,
      "outputs": [
        {
          "output_type": "stream",
          "name": "stdout",
          "text": [
            "Int64Index([10, 10, 10, 10, 10, 10, 10, 10, 10, 10,\n",
            "            ...\n",
            "             9,  9,  9,  9,  9,  9,  9,  9,  9,  9],\n",
            "           dtype='int64', name='time', length=9332)\n",
            "mean of mag in q1 = nan\n",
            "mean of mag in q2 = nan\n",
            "mean of mag in q3 = 1.466735124760082\n",
            "mean of mag in q4 = 1.5360446493569568\n"
          ]
        }
      ]
    }
  ]
}